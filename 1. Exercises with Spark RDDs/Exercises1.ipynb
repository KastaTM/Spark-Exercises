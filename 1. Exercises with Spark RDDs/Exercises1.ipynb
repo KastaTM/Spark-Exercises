{
 "cells": [
  {
   "cell_type": "code",
   "execution_count": 1,
   "id": "fb34e1bb",
   "metadata": {},
   "outputs": [],
   "source": [
    "### Big Data Exercises with Spark RDDs"
   ]
  },
  {
   "cell_type": "code",
   "execution_count": 2,
   "id": "2990e92a-337e-4818-9aa6-dd8af555606e",
   "metadata": {
    "editable": true,
    "slideshow": {
     "slide_type": ""
    },
    "tags": []
   },
   "outputs": [
    {
     "name": "stderr",
     "output_type": "stream",
     "text": [
      "25/02/01 13:19:52 WARN Utils: Your hostname, student-VirtualBox resolves to a loopback address: 127.0.1.1; using 10.0.2.15 instead (on interface enp0s3)\n",
      "25/02/01 13:19:52 WARN Utils: Set SPARK_LOCAL_IP if you need to bind to another address\n",
      "Setting default log level to \"WARN\".\n",
      "To adjust logging level use sc.setLogLevel(newLevel). For SparkR, use setLogLevel(newLevel).\n",
      "25/02/01 13:19:54 WARN NativeCodeLoader: Unable to load native-hadoop library for your platform... using builtin-java classes where applicable\n"
     ]
    }
   ],
   "source": [
    "# Exercises: https://moodle.upm.es/titulaciones/oficiales/pluginfile.php/12015163/mod_resource/content/3/Exercises_Core.pdf\n",
    "from pyspark import SparkConf, SparkContext\n",
    "conf = SparkConf()\n",
    "conf.setMaster(\"local[*]\").setAppName(\"4.1.EXERCISES\")\n",
    "sc = SparkContext.getOrCreate(conf)\n",
    "sc.setLogLevel(\"ERROR\")"
   ]
  },
  {
   "cell_type": "code",
   "execution_count": 3,
   "id": "f5bfdc44-bbe6-43c4-a2c0-26aa0b6daddb",
   "metadata": {},
   "outputs": [
    {
     "name": "stderr",
     "output_type": "stream",
     "text": [
      "[Stage 0:>                                                          (0 + 1) / 1]\r"
     ]
    },
    {
     "name": "stdout",
     "output_type": "stream",
     "text": [
      "aa.b Main_Page 1 4881\n",
      "aa.b Special:Contributions/Beau 1 4938\n",
      "aa.b Special:WhatLinksHere/MediaWiki:Makesysopsubmit 1 4550\n",
      "aa.b User:Ahoerstemeier 1 4388\n",
      "aa.b User:Monobi 1 5500\n",
      "aa.d Special:Contributions/Les_Meloures 1 4949\n",
      "aa %D0%90%D1%80%D0%B3%D0%B0%D0%B7%D0%BC 1 655\n",
      "aa Amiga_600 1 655\n",
      "aa DJ_Dlee 1 653\n",
      "aa Main_Page 2 9494\n"
     ]
    },
    {
     "name": "stderr",
     "output_type": "stream",
     "text": [
      "                                                                                \r"
     ]
    }
   ],
   "source": [
    "# Exercise 1\n",
    "pagecounts = sc.textFile(\"file:///home/student/Downloads/pagecounts-20100806-030000\")\n",
    "print(\"\\n\".join(pagecounts.take(10)))"
   ]
  },
  {
   "cell_type": "code",
   "execution_count": 4,
   "id": "cc98506e-cf88-4a5d-a4a7-be45fb11ed5b",
   "metadata": {
    "editable": true,
    "slideshow": {
     "slide_type": ""
    },
    "tags": []
   },
   "outputs": [
    {
     "name": "stderr",
     "output_type": "stream",
     "text": [
      "[Stage 1:==========================================>                (5 + 2) / 7]\r"
     ]
    },
    {
     "name": "stdout",
     "output_type": "stream",
     "text": [
      "4729148\n"
     ]
    },
    {
     "name": "stderr",
     "output_type": "stream",
     "text": [
      "                                                                                \r"
     ]
    }
   ],
   "source": [
    "# Exercise 2\n",
    "lines_count = pagecounts.count()\n",
    "print(lines_count)"
   ]
  },
  {
   "cell_type": "code",
   "execution_count": 5,
   "id": "58e391a6",
   "metadata": {},
   "outputs": [],
   "source": [
    "# Exercise 3\n",
    "enPages = pagecounts.filter(lambda line :  line.startswith(\"en\"))"
   ]
  },
  {
   "cell_type": "code",
   "execution_count": 6,
   "id": "44da9a64",
   "metadata": {},
   "outputs": [],
   "source": [
    "# Exercise 4\n",
    "enPagesTuples = enPages.map(lambda line: line.split()).map(lambda fields: (fields[0], fields[1], int(fields[2]), int(fields[3])))"
   ]
  },
  {
   "cell_type": "code",
   "execution_count": 7,
   "id": "6e403701",
   "metadata": {},
   "outputs": [
    {
     "name": "stderr",
     "output_type": "stream",
     "text": [
      "[Stage 5:>                                                          (0 + 1) / 1]\r"
     ]
    },
    {
     "name": "stdout",
     "output_type": "stream",
     "text": [
      "[('en.mw', 'en', 509662, 42198597926), ('en', 'Main_Page', 222302, 5025224410), ('en', 'United_States', 4694, 2160246570), ('en', 'United_Kingdom', 2164, 1138630820), ('en', 'Canada', 1753, 688248121)]\n"
     ]
    },
    {
     "name": "stderr",
     "output_type": "stream",
     "text": [
      "                                                                                \r"
     ]
    }
   ],
   "source": [
    "# Exercise 5\n",
    "sortedPages = enPagesTuples.sortBy(lambda x: x[3], ascending=False)\n",
    "print(sortedPages.take(5))"
   ]
  },
  {
   "cell_type": "code",
   "execution_count": 8,
   "id": "297bf060",
   "metadata": {},
   "outputs": [
    {
     "name": "stderr",
     "output_type": "stream",
     "text": [
      "[Stage 8:==================================================>        (6 + 1) / 7]\r"
     ]
    },
    {
     "name": "stdout",
     "output_type": "stream",
     "text": [
      "Most visited page is: en with 509662 visits.\n"
     ]
    },
    {
     "name": "stderr",
     "output_type": "stream",
     "text": [
      "                                                                                \r"
     ]
    }
   ],
   "source": [
    "# Exercise 6\n",
    "mostVisitedPage = enPagesTuples.sortBy(lambda x: x[2], ascending=False).first()\n",
    "print(f\"Most visited page is: {mostVisitedPage[1]} with {mostVisitedPage[2]} visits.\")"
   ]
  },
  {
   "cell_type": "code",
   "execution_count": 9,
   "id": "258c45ba",
   "metadata": {},
   "outputs": [
    {
     "name": "stderr",
     "output_type": "stream",
     "text": [
      "                                                                                \r"
     ]
    },
    {
     "name": "stdout",
     "output_type": "stream",
     "text": [
      "Bin 1 (1 - 25484): *************************************************************************** (2325011 instances)\n",
      "Bin 2 (25484 - 50967):  (2 instances)\n",
      "Bin 3 (50967 - 76450):  (0 instances)\n",
      "Bin 4 (76450 - 101933):  (0 instances)\n",
      "Bin 5 (101933 - 127416):  (0 instances)\n",
      "Bin 6 (127416 - 152899):  (0 instances)\n",
      "Bin 7 (152899 - 178382):  (0 instances)\n",
      "Bin 8 (178382 - 203865):  (0 instances)\n",
      "Bin 9 (203865 - 229348):  (2 instances)\n",
      "Bin 10 (229348 - 254832):  (0 instances)\n",
      "Bin 11 (254832 - 280315):  (0 instances)\n",
      "Bin 12 (280315 - 305798):  (0 instances)\n",
      "Bin 13 (305798 - 331281):  (0 instances)\n",
      "Bin 14 (331281 - 356764):  (0 instances)\n",
      "Bin 15 (356764 - 382247):  (0 instances)\n",
      "Bin 16 (382247 - 407730):  (1 instances)\n",
      "Bin 17 (407730 - 433213):  (0 instances)\n",
      "Bin 18 (433213 - 458696):  (0 instances)\n",
      "Bin 19 (458696 - 484179):  (0 instances)\n",
      "Bin 20 (484179 - 509662):  (1 instances)\n"
     ]
    }
   ],
   "source": [
    "# Exercise 7\n",
    "def create_histogram(rdd, bins):\n",
    "    visits = rdd.map(lambda x: x[2]) \n",
    "    min_visits = visits.min()\n",
    "    max_visits = visits.max()\n",
    "    \n",
    "    bin_edges = [min_visits + i * (max_visits - min_visits) / bins for i in range(bins + 1)]\n",
    "    \n",
    "    histogram = visits.histogram(bin_edges)\n",
    "    \n",
    "    bins_edges = histogram[0]\n",
    "    bins_counts = histogram[1]\n",
    "\n",
    "    for i in range(len(bins_edges) - 1):\n",
    "        range_label = f\"({round(bins_edges[i])} - {round(bins_edges[i+1])})\"\n",
    "        count = bins_counts[i]\n",
    "        mult = int((count / max(bins_counts)) * 75) if max(bins_counts) > 0 else 0\n",
    "        print(f\"Bin {i+1} {range_label}: {'*' * mult} ({count} instances)\")\n",
    "\n",
    "create_histogram(enPagesTuples, 20)\n",
    "\n",
    "sc.stop()\n"
   ]
  }
 ],
 "metadata": {
  "kernelspec": {
   "display_name": "Python 3",
   "language": "python",
   "name": "python3"
  },
  "language_info": {
   "codemirror_mode": {
    "name": "ipython",
    "version": 3
   },
   "file_extension": ".py",
   "mimetype": "text/x-python",
   "name": "python",
   "nbconvert_exporter": "python",
   "pygments_lexer": "ipython3",
   "version": "3.10.12"
  }
 },
 "nbformat": 4,
 "nbformat_minor": 5
}
