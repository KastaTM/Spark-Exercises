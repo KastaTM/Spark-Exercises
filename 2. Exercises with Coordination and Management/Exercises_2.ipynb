{
 "cells": [
  {
   "cell_type": "code",
   "execution_count": 1,
   "id": "8b828858",
   "metadata": {},
   "outputs": [],
   "source": [
    "# Exercises with Coordination and Management"
   ]
  },
  {
   "cell_type": "code",
   "execution_count": 2,
   "id": "2720c580-5cae-4e95-acc8-513899af8603",
   "metadata": {},
   "outputs": [
    {
     "name": "stderr",
     "output_type": "stream",
     "text": [
      "25/02/01 13:47:49 WARN Utils: Your hostname, student-VirtualBox resolves to a loopback address: 127.0.1.1; using 10.0.2.15 instead (on interface enp0s3)\n",
      "25/02/01 13:47:49 WARN Utils: Set SPARK_LOCAL_IP if you need to bind to another address\n",
      "Setting default log level to \"WARN\".\n",
      "To adjust logging level use sc.setLogLevel(newLevel). For SparkR, use setLogLevel(newLevel).\n",
      "25/02/01 13:47:51 WARN NativeCodeLoader: Unable to load native-hadoop library for your platform... using builtin-java classes where applicable\n"
     ]
    }
   ],
   "source": [
    "# Create Spark Context with SparkConf\n",
    "from pyspark import SparkConf, SparkContext\n",
    "conf = SparkConf()\n",
    "sc = SparkContext.getOrCreate(conf)"
   ]
  },
  {
   "cell_type": "code",
   "execution_count": 3,
   "id": "04fd9644-c7c8-41c7-b3df-583e432404c5",
   "metadata": {},
   "outputs": [
    {
     "name": "stderr",
     "output_type": "stream",
     "text": [
      "[Stage 0:>                                                          (0 + 2) / 2]\r"
     ]
    },
    {
     "name": "stdout",
     "output_type": "stream",
     "text": [
      "('Simón', 'Bolivar', 'VEN', '+58 489 895 965')\n",
      "('Fidel', 'Castro', 'CU', '+53 956 268 348')\n",
      "('Jose', 'Doroteo', 'MEX', '+52 985 621 444')\n",
      "('Ernesto', 'Guevara', 'AR', '+54 895 325 481')\n",
      "('Hugo', 'Chávez', 'VE', '+58 489 895 965')\n",
      "('Camilo', 'Cienfuegos', 'CUB', '+53 956 268 348')\n",
      "('Andrés', 'López', 'MX', '+52 985 621 444')\n",
      "('Juan Domingo', 'Perón', 'ARG', '+54 985 621 444')\n"
     ]
    },
    {
     "name": "stderr",
     "output_type": "stream",
     "text": [
      "                                                                                \r"
     ]
    }
   ],
   "source": [
    "# Exercise 1\n",
    "input_data = [(\"Simón\",\"Bolivar\",\"VEN\",\"489 895 965\"),\n",
    "    (\"Fidel\",\"Castro\",\"CU\",\"956 268 348\"),\n",
    "    (\"Jose\",\"Doroteo\",\"MEX\",\"985 621 444\"),\n",
    "    (\"Ernesto\",\"Guevara\",\"AR\",\"895 325 481\"),\n",
    "    (\"Hugo\",\"Chávez\",\"VE\",\"489 895 965\"),\n",
    "    (\"Camilo\",\"Cienfuegos\",\"CUB\",\"956 268 348\"),\n",
    "    (\"Andrés\",\"López\",\"MX\",\"985 621 444\"),\n",
    "    (\"Juan Domingo\",\"Perón\",\"ARG\",\"985 621 444\"),\n",
    "  ]\n",
    "\n",
    "country_codes = {\"VEN\": \"+58\", \"CU\": \"+53\", \"MEX\": \"+52\", \"AR\": \"+54\", \"VE\": \"+58\", \"CUB\": \"+53\", \"MX\": \"+52\", \"ARG\": \"+54\"}\n",
    "\n",
    "broadcast_codes = sc.broadcast(country_codes)\n",
    "\n",
    "rdd = sc.parallelize(input_data)\n",
    "\n",
    "update_rdd = rdd.map(lambda x: (x[0], x[1], x[2], broadcast_codes.value.get(x[2], \"\") + \" \" + x[3]))\n",
    "\n",
    "result = update_rdd.collect()\n",
    "for item in result: \n",
    "  print(item)\n"
   ]
  },
  {
   "cell_type": "code",
   "execution_count": 4,
   "id": "d8203980-5c79-4ea4-aa71-89116ed64048",
   "metadata": {},
   "outputs": [
    {
     "name": "stderr",
     "output_type": "stream",
     "text": [
      "                                                                                \r"
     ]
    },
    {
     "name": "stdout",
     "output_type": "stream",
     "text": [
      "Lines containing 'to':  16548\n",
      "Total lines in bible.txt:  30383\n"
     ]
    },
    {
     "name": "stderr",
     "output_type": "stream",
     "text": [
      "                                                                                \r"
     ]
    }
   ],
   "source": [
    "# Exercise 2\n",
    "input_file_path=\"bible.txt\"\n",
    "bible_rdd = sc.textFile(input_file_path)\n",
    "\n",
    "line_with_to = bible_rdd.filter(lambda line: \"to\" in line).count()\n",
    "total_lines = bible_rdd.count()\n",
    "\n",
    "print(\"Lines containing 'to': \", line_with_to)\n",
    "print(\"Total lines in bible.txt: \", total_lines)"
   ]
  },
  {
   "cell_type": "code",
   "execution_count": 6,
   "id": "80da84d3-032d-4a1a-a122-9b15f3b19b4e",
   "metadata": {},
   "outputs": [
    {
     "name": "stderr",
     "output_type": "stream",
     "text": [
      "                                                                                \r"
     ]
    }
   ],
   "source": [
    "# Exercise 3\n",
    "input_file_path=\"pagecounts-20100806-030000\"\n",
    "\n",
    "pagecounts_rdd = sc.textFile(input_file_path)\n",
    "pagecounts_rdd.saveAsTextFile(\"output/original\")\n",
    "\n",
    "pagecounts_rdd.repartition(2).saveAsTextFile(\"output/two_partitions\")\n",
    "\n",
    "pagecounts_rdd.coalesce(1).saveAsTextFile(\"output/single_file\")"
   ]
  },
  {
   "cell_type": "code",
   "execution_count": 7,
   "id": "5f36a976-62ce-491f-887c-76e3f4ddb1d2",
   "metadata": {},
   "outputs": [
    {
     "name": "stderr",
     "output_type": "stream",
     "text": [
      "[Stage 8:==================================================>        (6 + 1) / 7]\r"
     ]
    },
    {
     "name": "stdout",
     "output_type": "stream",
     "text": [
      "Non-cached time:  3.4314632415771484  seconds\n",
      "Cached time:  8.373480558395386  seconds\n"
     ]
    },
    {
     "name": "stderr",
     "output_type": "stream",
     "text": [
      "                                                                                \r"
     ]
    }
   ],
   "source": [
    "# Exercise 4\n",
    "import time\n",
    "\n",
    "input_file_path=\"pagecounts-20100806-030000\"\n",
    "pagecounts_rdd = sc.textFile(input_file_path)\n",
    "start_time = time.time()\n",
    "non_cached_count = pagecounts_rdd.count()\n",
    "non_cached_time = time.time() - start_time\n",
    "\n",
    "cached_rdd = pagecounts_rdd.cache()\n",
    "start_time = time.time()\n",
    "cached_count = cached_rdd.count()\n",
    "cached_time = time.time() - start_time\n",
    "\n",
    "print(\"Non-cached time: \", non_cached_time, \" seconds\")\n",
    "print(\"Cached time: \", cached_time, \" seconds\")"
   ]
  },
  {
   "cell_type": "code",
   "execution_count": 8,
   "id": "67d36129-0b5f-4c19-9f6d-f2f24cb38513",
   "metadata": {},
   "outputs": [],
   "source": [
    "sc.stop()"
   ]
  }
 ],
 "metadata": {
  "kernelspec": {
   "display_name": "Python 3",
   "language": "python",
   "name": "python3"
  },
  "language_info": {
   "codemirror_mode": {
    "name": "ipython",
    "version": 3
   },
   "file_extension": ".py",
   "mimetype": "text/x-python",
   "name": "python",
   "nbconvert_exporter": "python",
   "pygments_lexer": "ipython3",
   "version": "3.10.12"
  }
 },
 "nbformat": 4,
 "nbformat_minor": 5
}
