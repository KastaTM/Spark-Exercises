{
 "cells": [
  {
   "cell_type": "code",
   "execution_count": 1,
   "id": "7922d683",
   "metadata": {},
   "outputs": [],
   "source": [
    "# Exercises with Spark SQL"
   ]
  },
  {
   "cell_type": "code",
   "execution_count": 2,
   "id": "481a8156-ec69-4785-889f-7c2c6473944b",
   "metadata": {},
   "outputs": [
    {
     "name": "stderr",
     "output_type": "stream",
     "text": [
      "25/02/01 14:16:56 WARN Utils: Your hostname, student-VirtualBox resolves to a loopback address: 127.0.1.1; using 10.0.2.15 instead (on interface enp0s3)\n",
      "25/02/01 14:16:56 WARN Utils: Set SPARK_LOCAL_IP if you need to bind to another address\n",
      "Setting default log level to \"WARN\".\n",
      "To adjust logging level use sc.setLogLevel(newLevel). For SparkR, use setLogLevel(newLevel).\n",
      "25/02/01 14:16:58 WARN NativeCodeLoader: Unable to load native-hadoop library for your platform... using builtin-java classes where applicable\n"
     ]
    }
   ],
   "source": [
    "from pyspark.sql import SparkSession\n",
    "from pyspark.sql.functions import *\n",
    "\n",
    "# Create a SparkSession\n",
    "spark = SparkSession.builder.appName(\"App\").getOrCreate()\n",
    "spark.sparkContext.setLogLevel(\"WARN\")"
   ]
  },
  {
   "cell_type": "code",
   "execution_count": null,
   "id": "b5c83977",
   "metadata": {},
   "outputs": [],
   "source": [
    "# Exercise 1\n",
    "\"\"\"\n",
    "The command to create a DataFrame from int_list won't work properly because Spark needs an explicit schema o infered to understand how to manipulate the data.\n",
    "int_list is not a tuple list or else, so it doesn't have a defined schema what can end up leading to errors\n",
    "\"\"\"\n",
    "\n",
    "int_list = [1,2,3]\n",
    "intDF = spark.createDataFrame(int_list)"
   ]
  },
  {
   "cell_type": "code",
   "execution_count": 3,
   "id": "9c0a2a5c-d7d5-43ea-8d5c-42b3548c69ea",
   "metadata": {},
   "outputs": [
    {
     "name": "stderr",
     "output_type": "stream",
     "text": [
      "                                                                                \r"
     ]
    },
    {
     "name": "stdout",
     "output_type": "stream",
     "text": [
      "root\n",
      " |-- project_name: string (nullable = true)\n",
      " |-- page_title: string (nullable = true)\n",
      " |-- num_requests: string (nullable = true)\n",
      " |-- content_size: string (nullable = true)\n",
      "\n",
      "+------------+-----------------------------------------------+------------+------------+\n",
      "|project_name|page_title                                     |num_requests|content_size|\n",
      "+------------+-----------------------------------------------+------------+------------+\n",
      "|aa.b        |Main_Page                                      |1           |4881        |\n",
      "|aa.b        |Special:Contributions/Beau                     |1           |4938        |\n",
      "|aa.b        |Special:WhatLinksHere/MediaWiki:Makesysopsubmit|1           |4550        |\n",
      "|aa.b        |User:Ahoerstemeier                             |1           |4388        |\n",
      "|aa.b        |User:Monobi                                    |1           |5500        |\n",
      "|aa.d        |Special:Contributions/Les_Meloures             |1           |4949        |\n",
      "|aa          |%D0%90%D1%80%D0%B3%D0%B0%D0%B7%D0%BC           |1           |655         |\n",
      "|aa          |Amiga_600                                      |1           |655         |\n",
      "|aa          |DJ_Dlee                                        |1           |653         |\n",
      "|aa          |Main_Page                                      |2           |9494        |\n",
      "|aa          |MediaWiki:Nstab-main                           |1           |4593        |\n",
      "|aa          |MediaWiki:nstab-main                           |1           |594         |\n",
      "|aa          |North_Vanlaiphai                               |1           |12849       |\n",
      "|aa          |User:Sevela.p                                  |1           |4394        |\n",
      "|ab.mw       |ab                                             |3           |150597      |\n",
      "+------------+-----------------------------------------------+------------+------------+\n",
      "only showing top 15 rows\n",
      "\n"
     ]
    }
   ],
   "source": [
    "# Exercise 2\n",
    "\n",
    "schema_fields = [\"project_name\", \"page_title\", \"num_requests\", \"content_size\"]\n",
    "\n",
    "inputDf = spark.read.format(\"csv\").option(\"delimiter\", \" \").load(\"pagecounts-20100806-030000\").toDF(*schema_fields)\n",
    "\n",
    "inputDf.printSchema()\n",
    "\n",
    "inputDf.show(15,truncate=False)"
   ]
  },
  {
   "cell_type": "code",
   "execution_count": 4,
   "id": "c0b91d11-a363-47eb-9722-dacf8687d143",
   "metadata": {},
   "outputs": [
    {
     "name": "stdout",
     "output_type": "stream",
     "text": [
      "1. Total number of elements\n"
     ]
    },
    {
     "name": "stderr",
     "output_type": "stream",
     "text": [
      "                                                                                \r"
     ]
    },
    {
     "name": "stdout",
     "output_type": "stream",
     "text": [
      "+--------------+\n",
      "|total_elements|\n",
      "+--------------+\n",
      "|       4729148|\n",
      "+--------------+\n",
      "\n"
     ]
    },
    {
     "name": "stderr",
     "output_type": "stream",
     "text": [
      "                                                                                \r"
     ]
    },
    {
     "name": "stdout",
     "output_type": "stream",
     "text": [
      "Total number of elements with DataFrame API: DataFrame[total_elements: bigint]\n",
      "2. Complete list of project names (no repetitions)\n"
     ]
    },
    {
     "name": "stderr",
     "output_type": "stream",
     "text": [
      "                                                                                \r"
     ]
    },
    {
     "name": "stdout",
     "output_type": "stream",
     "text": [
      "+------------+\n",
      "|project_name|\n",
      "+------------+\n",
      "|     cbk-zam|\n",
      "|        co.b|\n",
      "|        cs.n|\n",
      "|          en|\n",
      "|  be-x-old.d|\n",
      "|          cr|\n",
      "|        as.d|\n",
      "|        dv.n|\n",
      "|        cr.d|\n",
      "|         crh|\n",
      "|       ast.q|\n",
      "|       als.n|\n",
      "|       ang.q|\n",
      "|        am.d|\n",
      "|        af.q|\n",
      "|        cy.d|\n",
      "|       an.mw|\n",
      "|       be.mw|\n",
      "|        cs.d|\n",
      "|        cy.s|\n",
      "+------------+\n",
      "only showing top 20 rows\n",
      "\n"
     ]
    },
    {
     "name": "stderr",
     "output_type": "stream",
     "text": [
      "                                                                                \r"
     ]
    },
    {
     "name": "stdout",
     "output_type": "stream",
     "text": [
      "+------------+\n",
      "|project_name|\n",
      "+------------+\n",
      "|     cbk-zam|\n",
      "|        co.b|\n",
      "|        cs.n|\n",
      "|          en|\n",
      "|  be-x-old.d|\n",
      "|          cr|\n",
      "|        as.d|\n",
      "|        dv.n|\n",
      "|        cr.d|\n",
      "|         crh|\n",
      "|       ast.q|\n",
      "|       als.n|\n",
      "|       ang.q|\n",
      "|        am.d|\n",
      "|        af.q|\n",
      "|        cy.d|\n",
      "|       an.mw|\n",
      "|       be.mw|\n",
      "|        cs.d|\n",
      "|        cy.s|\n",
      "+------------+\n",
      "only showing top 20 rows\n",
      "\n",
      "3. Total content size of project 'en' (Wikipedia in English)\n"
     ]
    },
    {
     "name": "stderr",
     "output_type": "stream",
     "text": [
      "                                                                                \r"
     ]
    },
    {
     "name": "stdout",
     "output_type": "stream",
     "text": [
      "+------------------+\n",
      "|total_content_size|\n",
      "+------------------+\n",
      "|  2.99984572954E11|\n",
      "+------------------+\n",
      "\n"
     ]
    },
    {
     "name": "stderr",
     "output_type": "stream",
     "text": [
      "                                                                                \r"
     ]
    },
    {
     "name": "stdout",
     "output_type": "stream",
     "text": [
      "+-----------------+\n",
      "|sum(content_size)|\n",
      "+-----------------+\n",
      "|     299984572954|\n",
      "+-----------------+\n",
      "\n",
      "4. Top 5 most visited pages of project 'en', and the number of visits for each\n"
     ]
    },
    {
     "name": "stderr",
     "output_type": "stream",
     "text": [
      "                                                                                \r"
     ]
    },
    {
     "name": "stdout",
     "output_type": "stream",
     "text": [
      "+-------------------+------------+\n",
      "|         page_title|num_requests|\n",
      "+-------------------+------------+\n",
      "|          A_Prophet|          99|\n",
      "|American_wire_gauge|          99|\n",
      "|   Active_Directory|          99|\n",
      "|         311_(band)|          99|\n",
      "|     Adenocarcinoma|          99|\n",
      "+-------------------+------------+\n",
      "\n"
     ]
    },
    {
     "name": "stderr",
     "output_type": "stream",
     "text": [
      "[Stage 21:=============================>                            (1 + 1) / 2]\r"
     ]
    },
    {
     "name": "stdout",
     "output_type": "stream",
     "text": [
      "+-------------------+------------+\n",
      "|         page_title|num_requests|\n",
      "+-------------------+------------+\n",
      "|          A_Prophet|          99|\n",
      "|American_wire_gauge|          99|\n",
      "|   Active_Directory|          99|\n",
      "|         311_(band)|          99|\n",
      "|     Adenocarcinoma|          99|\n",
      "+-------------------+------------+\n",
      "\n"
     ]
    },
    {
     "name": "stderr",
     "output_type": "stream",
     "text": [
      "                                                                                \r"
     ]
    }
   ],
   "source": [
    "# Exercise 3\n",
    "print(\"1. Total number of elements\")\n",
    "#SQL\n",
    "inputDf.createOrReplaceTempView(\"pagecounts\")\n",
    "total_elements_sql = spark.sql(\"SELECT COUNT(*) as total_elements FROM pagecounts\")\n",
    "total_elements_sql.show()\n",
    "#DataFrame API\n",
    "total_elements_df = inputDf.count()\n",
    "print(f\"Total number of elements with DataFrame API: {total_elements_sql}\")\n",
    "\n",
    "print(\"2. Complete list of project names (no repetitions)\")\n",
    "#SQL\n",
    "distinct_projects_sql = spark.sql(\"SELECT DISTINCT project_name FROM pagecounts\")\n",
    "distinct_projects_sql.show()\n",
    "\n",
    "#DataFrame API\n",
    "distinct_projects_df = inputDf.select(\"project_name\").distinct()\n",
    "distinct_projects_df.show()\n",
    "\n",
    "print(\"3. Total content size of project 'en' (Wikipedia in English)\")\n",
    "inputDf = inputDf.withColumn(\"content_size\", inputDf[\"content_size\"].cast(\"long\"))\n",
    "#SQL\n",
    "total_content_en_sql = spark.sql(\"SELECT SUM(content_size) as total_content_size FROM pagecounts WHERE project_name = 'en'\")\n",
    "total_content_en_sql.show()\n",
    "\n",
    "#DataFrame API\n",
    "total_content_en_df = inputDf.filter(inputDf[\"project_name\"]==\"en\").groupBy().sum(\"content_size\")\n",
    "total_content_en_df.show()\n",
    "\n",
    "print(\"4. Top 5 most visited pages of project 'en', and the number of visits for each\")\n",
    "#SQL\n",
    "top_5_pages_sql = spark.sql(\"\"\"\n",
    "    SELECT page_title, num_requests\n",
    "    FROM pagecounts\n",
    "    WHERE project_name = 'en'\n",
    "    ORDER BY num_requests DESC\n",
    "    LIMIT 5                                   \n",
    "\"\"\")\n",
    "top_5_pages_sql.show()\n",
    "\n",
    "#DataFrame API\n",
    "top_5_pages_df = inputDf.filter(inputDf.project_name == 'en').select(\"page_title\", \"num_requests\").orderBy(inputDf[\"num_requests\"].desc()).limit(5)\n",
    "top_5_pages_df.show()"
   ]
  },
  {
   "cell_type": "code",
   "execution_count": 5,
   "id": "d4e554dc-380c-4b17-9176-320c5ede7c34",
   "metadata": {},
   "outputs": [],
   "source": [
    "# Exercise 4. The application should be delivered in a separated file with .py extension :)\n",
    "# Solution on Exercise 4.py"
   ]
  },
  {
   "cell_type": "code",
   "execution_count": 6,
   "id": "a60814ea",
   "metadata": {},
   "outputs": [
    {
     "name": "stderr",
     "output_type": "stream",
     "text": [
      "                                                                                \r"
     ]
    },
    {
     "name": "stdout",
     "output_type": "stream",
     "text": [
      "+---+------------+----------+---+-------+-----------+-----------------+\n",
      "| id|        name|   surname|age|country|local_phone|intl_phone_format|\n",
      "+---+------------+----------+---+-------+-----------+-----------------+\n",
      "|  1|       Simón|   Bolivar| 47|    VEN|489 895 965|  +58 489 895 965|\n",
      "|  2|       Fidel|    Castro| 90|     CU|956 268 348|  +53 956 268 348|\n",
      "|  3|        Jose|   Doroteo| 45|    MEX|985 621 444|  +52 985 621 444|\n",
      "|  4|     Ernesto|   Guevara| 39|     AR|895 325 481|  +54 895 325 481|\n",
      "|  5|        Hugo|    Chávez| 58|     VE|489 895 965|  +58 489 895 965|\n",
      "|  6|      Camilo|Cienfuegos| 27|    CUB|956 268 348|  +53 956 268 348|\n",
      "|  7|    Emiliano|    Zapata| 39|     ME|985 621 444|  +52 985 621 444|\n",
      "|  8|Juan Domingo|     Perón| 78|    ARG|985 621 444|  +54 985 621 444|\n",
      "+---+------------+----------+---+-------+-----------+-----------------+\n",
      "\n"
     ]
    },
    {
     "name": "stderr",
     "output_type": "stream",
     "text": [
      "[Stage 24:=============================>                            (1 + 1) / 2]\r"
     ]
    },
    {
     "name": "stdout",
     "output_type": "stream",
     "text": [
      "+----------------+-------+\n",
      "|country_standard|avg_age|\n",
      "+----------------+-------+\n",
      "|             CUB|   58.5|\n",
      "|             MEX|   42.0|\n",
      "|             VEN|   52.5|\n",
      "|             ARG|   58.5|\n",
      "+----------------+-------+\n",
      "\n"
     ]
    },
    {
     "name": "stderr",
     "output_type": "stream",
     "text": [
      "                                                                                \r"
     ]
    }
   ],
   "source": [
    "# Exercise 5\n",
    "\n",
    "columns = [\"id\",\"name\",\"surname\",\"age\",\"country\",\"local_phone\"]\n",
    "nice_guys = [(1,\"Simón\",\"Bolivar\",47,\"VEN\",\"489 895 965\"),\n",
    "    (2,\"Fidel\",\"Castro\",90,\"CU\",\"956 268 348\"),\n",
    "    (3,\"Jose\",\"Doroteo\",45,\"MEX\",\"985 621 444\"),\n",
    "    (4,\"Ernesto\",\"Guevara\",39,\"AR\",\"895 325 481\"),\n",
    "    (5,\"Hugo\",\"Chávez\",58,\"VE\",\"489 895 965\"),\n",
    "    (6,\"Camilo\",\"Cienfuegos\",27,\"CUB\",\"956 268 348\"),\n",
    "    (7,\"Emiliano\",\"Zapata\",39,\"ME\",\"985 621 444\"),\n",
    "    (8,\"Juan Domingo\",\"Perón\",78,\"ARG\",\"985 621 444\"),\n",
    "  ]\n",
    "\n",
    "\n",
    "\n",
    "df = spark.createDataFrame(nice_guys).toDF(*columns)\n",
    "\n",
    "codes={'CUB':'53','CU':'53','ME':'52','MEX':'52','AR':'54','ARG':'54','VE':'58','VEN':'58'}\n",
    "\n",
    "\n",
    "## defining the initial function of taking in a country and a phone number\n",
    "def countryPhoneNumberPrefix(country,phone_number):\n",
    "\n",
    "    return '+'+codes[country]+' '+phone_number\n",
    "\n",
    "\n",
    "from pyspark.sql.functions import udf,avg\n",
    "\n",
    "## UDF serializing the function so that it can be used for spark dataframes\n",
    "intlPhoneFormat= udf(lambda x,y: countryPhoneNumberPrefix(x,y))\n",
    "\n",
    "\n",
    "## Applying the UDF to the column and creating a new column intl_phone_format\n",
    "phoneNumbersCleaned=df.withColumn(\"intl_phone_format\",intlPhoneFormat(df.country,df.local_phone))\n",
    "\n",
    "## Show results set\n",
    "phoneNumbersCleaned.show()\n",
    "\n",
    "\n",
    "## The problem is that we first must map all the countries to have a standard name, we will use the 3 letter codes\n",
    "codesCountry={'CUB':'CUB','CU':'CUB','ME':'MEX','MEX':'MEX','AR':'ARG','ARG':'ARG','VE':'VEN','VEN':'VEN'}\n",
    "\n",
    "## defining the initial function of taking in a country and a phone number\n",
    "def reconcileCountryCode(country):\n",
    "\n",
    "    return codesCountry[country]\n",
    "\n",
    "## UDF serializing the function so that it can be used for spark dataframes\n",
    "standardCountryCode= udf(lambda x: reconcileCountryCode(x))\n",
    "\n",
    "\n",
    "## Apply the serialization to the dataframe and rename the new column country_standard\n",
    "ages=df.withColumn(\"country_standard\",standardCountryCode(df.country))\n",
    "\n",
    "## Aggregate with the new dataframe and take the average\n",
    "ages=ages.groupBy(ages.country_standard).agg(avg(\"age\").alias(\"avg_age\"))\n",
    "\n",
    "\n",
    "## Show results set\n",
    "ages.show()\n",
    "\n"
   ]
  }
 ],
 "metadata": {
  "kernelspec": {
   "display_name": "Python 3",
   "language": "python",
   "name": "python3"
  },
  "language_info": {
   "codemirror_mode": {
    "name": "ipython",
    "version": 3
   },
   "file_extension": ".py",
   "mimetype": "text/x-python",
   "name": "python",
   "nbconvert_exporter": "python",
   "pygments_lexer": "ipython3",
   "version": "3.10.12"
  }
 },
 "nbformat": 4,
 "nbformat_minor": 5
}
